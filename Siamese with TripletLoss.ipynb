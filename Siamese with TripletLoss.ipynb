{
  "cells": [
    {
      "cell_type": "markdown",
      "metadata": {
        "id": "view-in-github",
        "colab_type": "text"
      },
      "source": [
        "<a href=\"https://colab.research.google.com/github/Satyake/Triplet-Loss_Siamese_NN/blob/master/Siamese%20with%20TripletLoss.ipynb\" target=\"_parent\"><img src=\"https://colab.research.google.com/assets/colab-badge.svg\" alt=\"Open In Colab\"/></a>"
      ]
    },
    {
      "cell_type": "code",
      "execution_count": 1,
      "metadata": {
        "colab": {
          "base_uri": "https://localhost:8080/"
        },
        "id": "23TOba33L4qf",
        "outputId": "4e3041e4-f96f-4066-c14f-b31b5fe825e4"
      },
      "outputs": [
        {
          "output_type": "stream",
          "name": "stdout",
          "text": [
            "Not connected to a GPU\n"
          ]
        }
      ],
      "source": [
        ""
      ]
    },
    {
      "cell_type": "code",
      "execution_count": 2,
      "metadata": {
        "colab": {
          "base_uri": "https://localhost:8080/"
        },
        "id": "V1G82GuO-tez",
        "outputId": "8bc3fe37-ce31-454c-d8f5-1b53ec33707f"
      },
      "outputs": [
        {
          "output_type": "stream",
          "name": "stdout",
          "text": [
            "TensorFlow version: 2.8.2\n"
          ]
        }
      ],
      "source": [
        "from mnist import MNIST\n",
        "%matplotlib notebook\n",
        "\n",
        "mndata = MNIST('/home/satyake/Downloads/weatherman')\n",
        "mndata.gz=True\n",
        "\n",
        "x_train, y_train = mndata.load_training()\n",
        "# or\n",
        "mndata1=MNIST('/home/satyake/Downloads/weatherman')\n",
        "mndata1.gz=True\n",
        "x_test,y_test=mndata1.load_testing()\n",
        "y_train=np.array(y_train)\n",
        "y_test=np.array(y_test)"
      ]
    },
    {
      "cell_type": "code",
      "source": [
        "import numpy as np "
      ],
      "metadata": {
        "id": "kTyk4USONI92"
      },
      "execution_count": 4,
      "outputs": []
    },
    {
      "cell_type": "code",
      "source": [
        "(x_train,y_train),(x_test,y_test)=tf.keras.datasets.mnist.load_data()"
      ],
      "metadata": {
        "id": "BdXA2NQqMY4Y"
      },
      "execution_count": 8,
      "outputs": []
    },
    {
      "cell_type": "code",
      "source": [
        "x_test.shape"
      ],
      "metadata": {
        "id": "bmTvh0dkNX3y",
        "outputId": "d2cad491-15a1-4fc9-c13f-fc9c779f7050",
        "colab": {
          "base_uri": "https://localhost:8080/"
        }
      },
      "execution_count": 10,
      "outputs": [
        {
          "output_type": "execute_result",
          "data": {
            "text/plain": [
              "(10000, 28, 28)"
            ]
          },
          "metadata": {},
          "execution_count": 10
        }
      ]
    },
    {
      "cell_type": "code",
      "source": [
        "x_train=np.reshape(x_train,(60000,784))/255.\n",
        "x_test=np.reshape(x_test,(10000,784))/255."
      ],
      "metadata": {
        "id": "6T92oOQHM-ew"
      },
      "execution_count": 11,
      "outputs": []
    },
    {
      "cell_type": "code",
      "source": [
        "plt.imshow(np.reshape(x_train[31],(28,28)),cmap='binary')\n",
        "len(x_test)"
      ],
      "metadata": {
        "id": "NOvOo-ETNK-y",
        "outputId": "e99148e8-06c8-425a-e4e0-9cb783547a29",
        "colab": {
          "base_uri": "https://localhost:8080/",
          "height": 282
        }
      },
      "execution_count": 12,
      "outputs": [
        {
          "output_type": "execute_result",
          "data": {
            "text/plain": [
              "10000"
            ]
          },
          "metadata": {},
          "execution_count": 12
        },
        {
          "output_type": "display_data",
          "data": {
            "text/plain": [
              "<Figure size 432x288 with 1 Axes>"
            ],
            "image/png": "[encoded data removed]"
          },
          "metadata": {
            "needs_background": "light"
          }
        }
      ]
    },
    {
      "cell_type": "code",
      "source": [
        "def plot_triplet(data):\n",
        "    plt.figure(figsize=(6,3))\n",
        "    for i in range(0,3):\n",
        "        plt.subplot(1,3,i+1)\n",
        "        plt.imshow(np.reshape(data[i],(28,28)),cmap='gray')\n",
        "    plt.show()\n",
        "\n",
        "def create_batch(batch_size):\n",
        "    anchors=np.zeros((batch_size,784))\n",
        "    positives=np.zeros((batch_size,784))\n",
        "    negatives=np.zeros((batch_size,784))\n",
        "    \n",
        "    for i in range(0,batch_size):\n",
        "            index=random.randint(0,len(x_train)-1)\n",
        "            anc=x_train[index]\n",
        "            label_of_anc=y_train[index]\n",
        "            indices_of_pos=np.squeeze(np.where(y_train==label_of_anc))\n",
        "            indices_of_neg=np.squeeze(np.where(y_train!=label_of_anc))\n",
        "            #print(indices_of_pos)\n",
        "            pos=x_train[indices_of_pos[random.randint(0,len(indices_of_pos)-1)]]\n",
        "            neg=x_train[indices_of_neg[random.randint(0,len(indices_of_neg)-1)]]\n",
        "            positives[i]=pos\n",
        "            negatives[i]=neg\n",
        "            anchors[i]=anc\n",
        "    return [anchors,positives,negatives]\n",
        "    "
      ],
      "metadata": {
        "id": "bZnLRxIkNlit"
      },
      "execution_count": 14,
      "outputs": []
    },
    {
      "cell_type": "code",
      "source": [
        "plot_triplet([x_train[0],x_train[1],x_train[4]])  #testing the triplet plot\n"
      ],
      "metadata": {
        "id": "w06_Q49cNrx-",
        "outputId": "e6348432-3187-468e-d5f5-1cb726ed3e66",
        "colab": {
          "base_uri": "https://localhost:8080/",
          "height": 149
        }
      },
      "execution_count": 15,
      "outputs": [
        {
          "output_type": "display_data",
          "data": {
            "text/plain": [
              "<Figure size 432x216 with 3 Axes>"
            ],
            "image/png": "[encoded data removed]"
          },
          "metadata": {
            "needs_background": "light"
          }
        }
      ]
    },
    {
      "cell_type": "code",
      "source": [
        "files=create_batch(1)\n",
        "plot_triplet(files) #CHECKING THE BATCHGEN FUNCTION"
      ],
      "metadata": {
        "id": "vLz78AnNN2aZ",
        "outputId": "9c4328e3-88c7-4b88-acc6-6b4da331351e",
        "colab": {
          "base_uri": "https://localhost:8080/",
          "height": 149
        }
      },
      "execution_count": 16,
      "outputs": [
        {
          "output_type": "display_data",
          "data": {
            "text/plain": [
              "<Figure size 432x216 with 3 Axes>"
            ],
            "image/png": "[encoded data removed]"
          },
          "metadata": {
            "needs_background": "light"
          }
        }
      ]
    },
    {
      "cell_type": "code",
      "source": [
        ""
      ],
      "metadata": {
        "id": "HLrImlULN2gB"
      },
      "execution_count": null,
      "outputs": []
    }
  ],
  "metadata": {
    "colab": {
      "collapsed_sections": [],
      "name": "Making the Most of your Colab Subscription",
      "provenance": [],
      "include_colab_link": true
    },
    "kernelspec": {
      "display_name": "Python 3",
      "name": "python3"
    }
  },
  "nbformat": 4,
  "nbformat_minor": 0
}