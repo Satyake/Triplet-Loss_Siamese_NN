{
  "cells": [
    {
      "cell_type": "markdown",
      "metadata": {
        "id": "view-in-github",
        "colab_type": "text"
      },
      "source": [
        "<a href=\"https://colab.research.google.com/github/Satyake/Triplet-Loss_Siamese_NN/blob/master/Triplet-Loss-Siamese_NN.ipynb\" target=\"_parent\"><img src=\"https://colab.research.google.com/assets/colab-badge.svg\" alt=\"Open In Colab\"/></a>"
      ]
    },
    {
      "cell_type": "code",
      "execution_count": 18,
      "metadata": {
        "id": "23TOba33L4qf"
      },
      "outputs": [],
      "source": [
        "import tensorflow as tf\n",
        "import matplotlib.pyplot as plt\n",
        "import numpy as np \n",
        "import matplotlib.pyplot as plt\n",
        "import random\n",
        "from pca_plotter import PCAPlotter\n",
        "import tensorflow as tf"
      ]
    },
    {
      "cell_type": "code",
      "execution_count": 2,
      "metadata": {
        "colab": {
          "base_uri": "https://localhost:8080/",
          "height": 373
        },
        "id": "V1G82GuO-tez",
        "outputId": "a5667b94-a392-4bed-e670-76b430fb690d"
      },
      "outputs": [
        {
          "output_type": "error",
          "ename": "ModuleNotFoundError",
          "evalue": "ignored",
          "traceback": [
            "\u001b[0;31m---------------------------------------------------------------------------\u001b[0m",
            "\u001b[0;31mModuleNotFoundError\u001b[0m                       Traceback (most recent call last)",
            "\u001b[0;32m<ipython-input-2-1c5b339c0055>\u001b[0m in \u001b[0;36m<module>\u001b[0;34m()\u001b[0m\n\u001b[0;32m----> 1\u001b[0;31m \u001b[0;32mfrom\u001b[0m \u001b[0mmnist\u001b[0m \u001b[0;32mimport\u001b[0m \u001b[0mMNIST\u001b[0m\u001b[0;34m\u001b[0m\u001b[0;34m\u001b[0m\u001b[0m\n\u001b[0m\u001b[1;32m      2\u001b[0m \u001b[0mget_ipython\u001b[0m\u001b[0;34m(\u001b[0m\u001b[0;34m)\u001b[0m\u001b[0;34m.\u001b[0m\u001b[0mmagic\u001b[0m\u001b[0;34m(\u001b[0m\u001b[0;34m'matplotlib notebook'\u001b[0m\u001b[0;34m)\u001b[0m\u001b[0;34m\u001b[0m\u001b[0;34m\u001b[0m\u001b[0m\n\u001b[1;32m      3\u001b[0m \u001b[0;34m\u001b[0m\u001b[0m\n\u001b[1;32m      4\u001b[0m \u001b[0mmndata\u001b[0m \u001b[0;34m=\u001b[0m \u001b[0mMNIST\u001b[0m\u001b[0;34m(\u001b[0m\u001b[0;34m'/home/satyake/Downloads/weatherman'\u001b[0m\u001b[0;34m)\u001b[0m\u001b[0;34m\u001b[0m\u001b[0;34m\u001b[0m\u001b[0m\n\u001b[1;32m      5\u001b[0m \u001b[0mmndata\u001b[0m\u001b[0;34m.\u001b[0m\u001b[0mgz\u001b[0m\u001b[0;34m=\u001b[0m\u001b[0;32mTrue\u001b[0m\u001b[0;34m\u001b[0m\u001b[0;34m\u001b[0m\u001b[0m\n",
            "\u001b[0;31mModuleNotFoundError\u001b[0m: No module named 'mnist'",
            "",
            "\u001b[0;31m---------------------------------------------------------------------------\u001b[0;32m\nNOTE: If your import is failing due to a missing package, you can\nmanually install dependencies using either !pip or !apt.\n\nTo view examples of installing some common dependencies, click the\n\"Open Examples\" button below.\n\u001b[0;31m---------------------------------------------------------------------------\u001b[0m\n"
          ],
          "errorDetails": {
            "actions": [
              {
                "action": "open_url",
                "actionText": "Open Examples",
                "url": "/notebooks/snippets/importing_libraries.ipynb"
              }
            ]
          }
        }
      ],
      "source": [
        "from mnist import MNIST\n",
        "%matplotlib notebook\n",
        "\n",
        "mndata = MNIST('/home/satyake/Downloads/weatherman')\n",
        "mndata.gz=True\n",
        "\n",
        "x_train, y_train = mndata.load_training()\n",
        "# or\n",
        "mndata1=MNIST('/home/satyake/Downloads/weatherman')\n",
        "mndata1.gz=True\n",
        "x_test,y_test=mndata1.load_testing()\n",
        "y_train=np.array(y_train)\n",
        "y_test=np.array(y_test)"
      ]
    },
    {
      "cell_type": "code",
      "source": [
        "import numpy as np "
      ],
      "metadata": {
        "id": "kTyk4USONI92"
      },
      "execution_count": 2,
      "outputs": []
    },
    {
      "cell_type": "code",
      "source": [
        "(x_train,y_train),(x_test,y_test)=tf.keras.datasets.mnist.load_data()"
      ],
      "metadata": {
        "colab": {
          "base_uri": "https://localhost:8080/"
        },
        "id": "BdXA2NQqMY4Y",
        "outputId": "4b610f3c-c611-4adc-d91b-a26d6dee4d29"
      },
      "execution_count": 3,
      "outputs": [
        {
          "output_type": "stream",
          "name": "stdout",
          "text": [
            "Downloading data from https://storage.googleapis.com/tensorflow/tf-keras-datasets/mnist.npz\n",
            "11493376/11490434 [==============================] - 0s 0us/step\n",
            "11501568/11490434 [==============================] - 0s 0us/step\n"
          ]
        }
      ]
    },
    {
      "cell_type": "code",
      "source": [
        "x_test.shape"
      ],
      "metadata": {
        "colab": {
          "base_uri": "https://localhost:8080/"
        },
        "id": "bmTvh0dkNX3y",
        "outputId": "324cb1ec-19a6-4f44-a676-1947ad6a4bbc"
      },
      "execution_count": 4,
      "outputs": [
        {
          "output_type": "execute_result",
          "data": {
            "text/plain": [
              "(10000, 28, 28)"
            ]
          },
          "metadata": {},
          "execution_count": 4
        }
      ]
    },
    {
      "cell_type": "code",
      "source": [
        "x_train=np.reshape(x_train,(60000,784))/255.\n",
        "x_test=np.reshape(x_test,(10000,784))/255."
      ],
      "metadata": {
        "id": "6T92oOQHM-ew"
      },
      "execution_count": 6,
      "outputs": []
    },
    {
      "cell_type": "code",
      "source": [
        "plt.imshow(np.reshape(x_train[31],(28,28)),cmap='binary')\n",
        "len(x_test)"
      ],
      "metadata": {
        "colab": {
          "base_uri": "https://localhost:8080/",
          "height": 282
        },
        "id": "NOvOo-ETNK-y",
        "outputId": "00925a36-b3c7-4563-c28b-5e6bc10f0ddf"
      },
      "execution_count": 7,
      "outputs": [
        {
          "output_type": "execute_result",
          "data": {
            "text/plain": [
              "10000"
            ]
          },
          "metadata": {},
          "execution_count": 7
        },
        {
          "output_type": "display_data",
          "data": {
            "text/plain": [
              "<Figure size 432x288 with 1 Axes>"
            ],
            "image/png": "[encoded data removed]"
          },
          "metadata": {
            "needs_background": "light"
          }
        }
      ]
    },
    {
      "cell_type": "code",
      "source": [
        "def plot_triplet(data):\n",
        "    plt.figure(figsize=(6,3))\n",
        "    for i in range(0,3):\n",
        "        plt.subplot(1,3,i+1)\n",
        "        plt.imshow(np.reshape(data[i],(28,28)),cmap='gray')\n",
        "    plt.show()\n",
        "\n",
        "def create_batch(batch_size):\n",
        "    anchors=np.zeros((batch_size,784))\n",
        "    positives=np.zeros((batch_size,784))\n",
        "    negatives=np.zeros((batch_size,784))\n",
        "    \n",
        "    for i in range(0,batch_size):\n",
        "            index=random.randint(0,len(x_train)-1)\n",
        "            anc=x_train[index]\n",
        "            label_of_anc=y_train[index]\n",
        "            indices_of_pos=np.squeeze(np.where(y_train==label_of_anc))\n",
        "            indices_of_neg=np.squeeze(np.where(y_train!=label_of_anc))\n",
        "            #print(indices_of_pos)\n",
        "            pos=x_train[indices_of_pos[random.randint(0,len(indices_of_pos)-1)]]\n",
        "            neg=x_train[indices_of_neg[random.randint(0,len(indices_of_neg)-1)]]\n",
        "            positives[i]=pos\n",
        "            negatives[i]=neg\n",
        "            anchors[i]=anc\n",
        "    return [anchors,positives,negatives]\n",
        "    "
      ],
      "metadata": {
        "id": "bZnLRxIkNlit"
      },
      "execution_count": 8,
      "outputs": []
    },
    {
      "cell_type": "code",
      "source": [
        "plot_triplet([x_train[0],x_train[1],x_train[4]])  #testing the triplet plot\n"
      ],
      "metadata": {
        "colab": {
          "base_uri": "https://localhost:8080/",
          "height": 149
        },
        "id": "w06_Q49cNrx-",
        "outputId": "627c4212-78a0-4656-a1f4-dd989de4375c"
      },
      "execution_count": 9,
      "outputs": [
        {
          "output_type": "display_data",
          "data": {
            "text/plain": [
              "<Figure size 432x216 with 3 Axes>"
            ],
            "image/png": "[encoded data removed]"
          },
          "metadata": {
            "needs_background": "light"
          }
        }
      ]
    },
    {
      "cell_type": "code",
      "source": [
        "files=create_batch(1)\n",
        "plot_triplet(files) #CHECKING THE BATCHGEN FUNCTION"
      ],
      "metadata": {
        "colab": {
          "base_uri": "https://localhost:8080/",
          "height": 149
        },
        "id": "vLz78AnNN2aZ",
        "outputId": "5aa9ebf4-f2ca-46ab-acb3-11402e218269"
      },
      "execution_count": 10,
      "outputs": [
        {
          "output_type": "display_data",
          "data": {
            "text/plain": [
              "<Figure size 432x216 with 3 Axes>"
            ],
            "image/png": "[encoded data removed]"
          },
          "metadata": {
            "needs_background": "light"
          }
        }
      ]
    },
    {
      "cell_type": "code",
      "source": [
        "emb_dim=512\n",
        "embedding_model=tf.keras.Sequential([tf.keras.layers.Dense(64,activation='relu',input_shape=(784,)),\n",
        "                                     tf.keras.layers.Dense(512,activation='sigmoid')])\n",
        "\n",
        "in_anc=tf.keras.layers.Input(shape=(784,))\n",
        "in_pos=tf.keras.layers.Input(shape=(784,))\n",
        "in_neg=tf.keras.layers.Input(shape=(784,))\n",
        "emb_anc=embedding_model(in_anc) #apply the model to the anchor,positive and negatives\n",
        "emb_pos=embedding_model(in_pos)\n",
        "emb_neg=embedding_model(in_neg)\n",
        "out=tf.keras.layers.concatenate([emb_anc,emb_pos,emb_neg],axis=1)\n",
        "Network=tf.keras.models.Model([in_anc,in_pos,in_neg],out)"
      ],
      "metadata": {
        "id": "HLrImlULN2gB"
      },
      "execution_count": 11,
      "outputs": []
    },
    {
      "cell_type": "code",
      "source": [
        "embedding_model.summary() #to view the complete model\n",
        "Network.summary()\n"
      ],
      "metadata": {
        "id": "1-p3HNWudrXh",
        "outputId": "58df0c28-fa75-4ad4-d9a3-5c703acc92ca",
        "colab": {
          "base_uri": "https://localhost:8080/"
        }
      },
      "execution_count": 12,
      "outputs": [
        {
          "output_type": "stream",
          "name": "stdout",
          "text": [
            "Model: \"sequential\"\n",
            "_________________________________________________________________\n",
            " Layer (type)                Output Shape              Param #   \n",
            "=================================================================\n",
            " dense (Dense)               (None, 64)                50240     \n",
            "                                                                 \n",
            " dense_1 (Dense)             (None, 512)               33280     \n",
            "                                                                 \n",
            "=================================================================\n",
            "Total params: 83,520\n",
            "Trainable params: 83,520\n",
            "Non-trainable params: 0\n",
            "_________________________________________________________________\n",
            "Model: \"model\"\n",
            "__________________________________________________________________________________________________\n",
            " Layer (type)                   Output Shape         Param #     Connected to                     \n",
            "==================================================================================================\n",
            " input_1 (InputLayer)           [(None, 784)]        0           []                               \n",
            "                                                                                                  \n",
            " input_2 (InputLayer)           [(None, 784)]        0           []                               \n",
            "                                                                                                  \n",
            " input_3 (InputLayer)           [(None, 784)]        0           []                               \n",
            "                                                                                                  \n",
            " sequential (Sequential)        (None, 512)          83520       ['input_1[0][0]',                \n",
            "                                                                  'input_2[0][0]',                \n",
            "                                                                  'input_3[0][0]']                \n",
            "                                                                                                  \n",
            " concatenate (Concatenate)      (None, 1536)         0           ['sequential[0][0]',             \n",
            "                                                                  'sequential[1][0]',             \n",
            "                                                                  'sequential[2][0]']             \n",
            "                                                                                                  \n",
            "==================================================================================================\n",
            "Total params: 83,520\n",
            "Trainable params: 83,520\n",
            "Non-trainable params: 0\n",
            "__________________________________________________________________________________________________\n"
          ]
        }
      ]
    },
    {
      "cell_type": "code",
      "source": [
        "sample_embedding = embedding_model.predict(np.expand_dims(x_train[1],axis=0))[0]"
      ],
      "metadata": {
        "id": "b2hOQryMdvv-"
      },
      "execution_count": 13,
      "outputs": []
    },
    {
      "cell_type": "code",
      "source": [
        "def data_generator(batch_size,emb_dim):\n",
        "    while True:\n",
        "        x=create_batch(batch_size)\n",
        "        y=np.zeros((batch_size,3*emb_dim))\n",
        "        yield x,y\n",
        "        "
      ],
      "metadata": {
        "id": "MQ8oXlzWdyPR"
      },
      "execution_count": 14,
      "outputs": []
    },
    {
      "cell_type": "code",
      "source": [
        "def loss(y_true,y_pred):\n",
        "        anc=y_pred[:,:emb_dim]\n",
        "        pos=y_pred[:,emb_dim:2*emb_dim]\n",
        "        neg=y_pred[:,2*emb_dim:]\n",
        "        dp=tf.reduce_mean(tf.square(anc-pos),axis=1)\n",
        "        dn=tf.reduce_mean(tf.square(anc-neg),axis=1)\n",
        "        return tf.maximum(dp-dn+0.9,0.)"
      ],
      "metadata": {
        "id": "183kbZ-Jd4G8"
      },
      "execution_count": 15,
      "outputs": []
    },
    {
      "cell_type": "code",
      "source": [
        "batch_size=1024\n",
        "epochs=10\n",
        "steps_per_epoch=2\n",
        "Network.compile(loss=loss,optimizer='rmsprop')\n",
        "X,Y=x_test[:1000],y_test[:1000]"
      ],
      "metadata": {
        "id": "hNJEs-0pd57F"
      },
      "execution_count": 19,
      "outputs": []
    },
    {
      "cell_type": "code",
      "source": [
        "_ = Network.fit_generator(\n",
        "    data_generator(batch_size,emb_dim),\n",
        "    steps_per_epoch=15,\n",
        "    epochs=epochs, verbose=False,\n",
        "    callbacks=[\n",
        "        PCAPlotter(\n",
        "            plt, embedding_model,\n",
        "            X, Y\n",
        "        )]\n",
        ")\n",
        "#we visualize the seperation on the test_set after training"
      ],
      "metadata": {
        "id": "Dmsn97rGd8Kh",
        "outputId": "5190ff96-abe5-4251-fa76-ec63fab36097",
        "colab": {
          "base_uri": "https://localhost:8080/",
          "height": 334
        }
      },
      "execution_count": 20,
      "outputs": [
        {
          "output_type": "stream",
          "name": "stderr",
          "text": [
            "/usr/local/lib/python3.7/dist-packages/ipykernel_launcher.py:8: UserWarning: `Model.fit_generator` is deprecated and will be removed in a future version. Please use `Model.fit`, which supports generators.\n",
            "  \n"
          ]
        },
        {
          "output_type": "display_data",
          "data": {
            "text/plain": [
              "<Figure size 648x288 with 2 Axes>"
            ],
            "image/png": "[encoded data removed]"
          },
          "metadata": {
            "needs_background": "light"
          }
        }
      ]
    },
    {
      "cell_type": "code",
      "source": [
        "Network.fit_generator(train_generator, \n",
        "                    validation_data=test_generator, \n",
        "                    epochs=60, \n",
        "                    verbose=2,steps_per_epoch=20, \n",
        "                    validation_steps=30)"
      ],
      "metadata": {
        "id": "AHkp487Id-UG"
      },
      "execution_count": null,
      "outputs": []
    }
  ],
  "metadata": {
    "colab": {
      "collapsed_sections": [],
      "name": "Making the Most of your Colab Subscription",
      "provenance": [],
      "machine_shape": "hm",
      "include_colab_link": true
    },
    "kernelspec": {
      "display_name": "Python 3",
      "name": "python3"
    },
    "accelerator": "GPU",
    "gpuClass": "standard"
  },
  "nbformat": 4,
  "nbformat_minor": 0
}