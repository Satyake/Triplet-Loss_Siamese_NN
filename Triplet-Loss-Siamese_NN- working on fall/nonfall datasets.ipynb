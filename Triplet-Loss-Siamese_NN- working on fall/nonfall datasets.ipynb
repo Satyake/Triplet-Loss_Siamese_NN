{
  "cells": [
    {
      "cell_type": "markdown",
      "metadata": {
        "id": "view-in-github",
        "colab_type": "text"
      },
      "source": [
        "<a href=\"https://colab.research.google.com/github/Satyake/Triplet-Loss_Siamese_NN/blob/master/Triplet-Loss-Siamese_NN-%20working%20on%20fall/nonfall%20datasets.ipynb\" target=\"_parent\"><img src=\"https://colab.research.google.com/assets/colab-badge.svg\" alt=\"Open In Colab\"/></a>"
      ]
    },
    {
      "cell_type": "code",
      "execution_count": 91,
      "metadata": {
        "id": "23TOba33L4qf"
      },
      "outputs": [],
      "source": [
        "%matplotlib inline\n",
        "\n",
        "import tensorflow as tf\n",
        "import matplotlib.pyplot as plt\n",
        "import numpy as np \n",
        "import matplotlib.pyplot as plt\n",
        "import random\n",
        "from pca_plotter import PCAPlotter\n",
        "import tensorflow as tf\n",
        "from mnist import MNIST\n"
      ]
    },
    {
      "cell_type": "code",
      "source": [
        "pip install python-mnist"
      ],
      "metadata": {
        "id": "JeMsxjHOAUfJ",
        "outputId": "8131116e-7c2a-4166-fcbd-375db7e66a2c",
        "colab": {
          "base_uri": "https://localhost:8080/",
          "height": 190
        }
      },
      "execution_count": 4,
      "outputs": [
        {
          "output_type": "stream",
          "name": "stdout",
          "text": [
            "Looking in indexes: https://pypi.org/simple, https://us-python.pkg.dev/colab-wheels/public/simple/\n",
            "Collecting python-mnist\n",
            "  Downloading python_mnist-0.7-py2.py3-none-any.whl (9.6 kB)\n",
            "Installing collected packages: python-mnist\n",
            "Successfully installed python-mnist-0.7\n"
          ]
        },
        {
          "output_type": "display_data",
          "data": {
            "application/vnd.colab-display-data+json": {
              "pip_warning": {
                "packages": [
                  "mnist"
                ]
              }
            }
          },
          "metadata": {}
        }
      ]
    },
    {
      "cell_type": "code",
      "execution_count": 124,
      "metadata": {
        "colab": {
          "base_uri": "https://localhost:8080/",
          "height": 380
        },
        "id": "V1G82GuO-tez",
        "outputId": "7fbd1475-e299-4560-9005-08f65b4bb58b"
      },
      "outputs": [
        {
          "output_type": "error",
          "ename": "FileNotFoundError",
          "evalue": "ignored",
          "traceback": [
            "\u001b[0;31m---------------------------------------------------------------------------\u001b[0m",
            "\u001b[0;31mFileNotFoundError\u001b[0m                         Traceback (most recent call last)",
            "\u001b[0;32m<ipython-input-124-140ce436c2c3>\u001b[0m in \u001b[0;36m<module>\u001b[0;34m()\u001b[0m\n\u001b[1;32m      9\u001b[0m \u001b[0mmndata1\u001b[0m\u001b[0;34m=\u001b[0m\u001b[0mMNIST\u001b[0m\u001b[0;34m(\u001b[0m\u001b[0;34m'/home/satyake/Downloads/weatherman'\u001b[0m\u001b[0;34m)\u001b[0m\u001b[0;34m\u001b[0m\u001b[0;34m\u001b[0m\u001b[0m\n\u001b[1;32m     10\u001b[0m \u001b[0mmndata1\u001b[0m\u001b[0;34m.\u001b[0m\u001b[0mgz\u001b[0m\u001b[0;34m=\u001b[0m\u001b[0;32mTrue\u001b[0m\u001b[0;34m\u001b[0m\u001b[0;34m\u001b[0m\u001b[0m\n\u001b[0;32m---> 11\u001b[0;31m \u001b[0mx_test\u001b[0m\u001b[0;34m,\u001b[0m\u001b[0my_test\u001b[0m\u001b[0;34m=\u001b[0m\u001b[0mmndata1\u001b[0m\u001b[0;34m.\u001b[0m\u001b[0mload_testing\u001b[0m\u001b[0;34m(\u001b[0m\u001b[0;34m)\u001b[0m\u001b[0;34m\u001b[0m\u001b[0;34m\u001b[0m\u001b[0m\n\u001b[0m\u001b[1;32m     12\u001b[0m \u001b[0my_train\u001b[0m\u001b[0;34m=\u001b[0m\u001b[0mnp\u001b[0m\u001b[0;34m.\u001b[0m\u001b[0marray\u001b[0m\u001b[0;34m(\u001b[0m\u001b[0my_train\u001b[0m\u001b[0;34m)\u001b[0m\u001b[0;34m\u001b[0m\u001b[0;34m\u001b[0m\u001b[0m\n\u001b[1;32m     13\u001b[0m \u001b[0my_test\u001b[0m\u001b[0;34m=\u001b[0m\u001b[0mnp\u001b[0m\u001b[0;34m.\u001b[0m\u001b[0marray\u001b[0m\u001b[0;34m(\u001b[0m\u001b[0my_test\u001b[0m\u001b[0;34m)\u001b[0m\u001b[0;34m\u001b[0m\u001b[0;34m\u001b[0m\u001b[0m\n",
            "\u001b[0;32m/usr/local/lib/python3.7/dist-packages/mnist/loader.py\u001b[0m in \u001b[0;36mload_testing\u001b[0;34m(self)\u001b[0m\n\u001b[1;32m    115\u001b[0m     \u001b[0;32mdef\u001b[0m \u001b[0mload_testing\u001b[0m\u001b[0;34m(\u001b[0m\u001b[0mself\u001b[0m\u001b[0;34m)\u001b[0m\u001b[0;34m:\u001b[0m\u001b[0;34m\u001b[0m\u001b[0;34m\u001b[0m\u001b[0m\n\u001b[1;32m    116\u001b[0m         ims, labels = self.load(os.path.join(self.path, self.test_img_fname),\n\u001b[0;32m--> 117\u001b[0;31m                                 os.path.join(self.path, self.test_lbl_fname))\n\u001b[0m\u001b[1;32m    118\u001b[0m \u001b[0;34m\u001b[0m\u001b[0m\n\u001b[1;32m    119\u001b[0m         \u001b[0mself\u001b[0m\u001b[0;34m.\u001b[0m\u001b[0mtest_images\u001b[0m \u001b[0;34m=\u001b[0m \u001b[0mself\u001b[0m\u001b[0;34m.\u001b[0m\u001b[0mprocess_images\u001b[0m\u001b[0;34m(\u001b[0m\u001b[0mims\u001b[0m\u001b[0;34m)\u001b[0m\u001b[0;34m\u001b[0m\u001b[0;34m\u001b[0m\u001b[0m\n",
            "\u001b[0;32m/usr/local/lib/python3.7/dist-packages/mnist/loader.py\u001b[0m in \u001b[0;36mload\u001b[0;34m(self, path_img, path_lbl, batch)\u001b[0m\n\u001b[1;32m    245\u001b[0m                                  '(start_point, batch_size)')\n\u001b[1;32m    246\u001b[0m \u001b[0;34m\u001b[0m\u001b[0m\n\u001b[0;32m--> 247\u001b[0;31m         \u001b[0;32mwith\u001b[0m \u001b[0mself\u001b[0m\u001b[0;34m.\u001b[0m\u001b[0mopener\u001b[0m\u001b[0;34m(\u001b[0m\u001b[0mpath_lbl\u001b[0m\u001b[0;34m,\u001b[0m \u001b[0;34m'rb'\u001b[0m\u001b[0;34m)\u001b[0m \u001b[0;32mas\u001b[0m \u001b[0mfile\u001b[0m\u001b[0;34m:\u001b[0m\u001b[0;34m\u001b[0m\u001b[0;34m\u001b[0m\u001b[0m\n\u001b[0m\u001b[1;32m    248\u001b[0m             \u001b[0mmagic\u001b[0m\u001b[0;34m,\u001b[0m \u001b[0msize\u001b[0m \u001b[0;34m=\u001b[0m \u001b[0mstruct\u001b[0m\u001b[0;34m.\u001b[0m\u001b[0munpack\u001b[0m\u001b[0;34m(\u001b[0m\u001b[0;34m\">II\"\u001b[0m\u001b[0;34m,\u001b[0m \u001b[0mfile\u001b[0m\u001b[0;34m.\u001b[0m\u001b[0mread\u001b[0m\u001b[0;34m(\u001b[0m\u001b[0;36m8\u001b[0m\u001b[0;34m)\u001b[0m\u001b[0;34m)\u001b[0m\u001b[0;34m\u001b[0m\u001b[0;34m\u001b[0m\u001b[0m\n\u001b[1;32m    249\u001b[0m             \u001b[0;32mif\u001b[0m \u001b[0mmagic\u001b[0m \u001b[0;34m!=\u001b[0m \u001b[0;36m2049\u001b[0m\u001b[0;34m:\u001b[0m\u001b[0;34m\u001b[0m\u001b[0;34m\u001b[0m\u001b[0m\n",
            "\u001b[0;32m/usr/local/lib/python3.7/dist-packages/mnist/loader.py\u001b[0m in \u001b[0;36mopener\u001b[0;34m(self, path_fn, *args, **kwargs)\u001b[0m\n\u001b[1;32m    235\u001b[0m     \u001b[0;32mdef\u001b[0m \u001b[0mopener\u001b[0m\u001b[0;34m(\u001b[0m\u001b[0mself\u001b[0m\u001b[0;34m,\u001b[0m \u001b[0mpath_fn\u001b[0m\u001b[0;34m,\u001b[0m \u001b[0;34m*\u001b[0m\u001b[0margs\u001b[0m\u001b[0;34m,\u001b[0m \u001b[0;34m**\u001b[0m\u001b[0mkwargs\u001b[0m\u001b[0;34m)\u001b[0m\u001b[0;34m:\u001b[0m\u001b[0;34m\u001b[0m\u001b[0;34m\u001b[0m\u001b[0m\n\u001b[1;32m    236\u001b[0m         \u001b[0;32mif\u001b[0m \u001b[0mself\u001b[0m\u001b[0;34m.\u001b[0m\u001b[0mgz\u001b[0m\u001b[0;34m:\u001b[0m\u001b[0;34m\u001b[0m\u001b[0;34m\u001b[0m\u001b[0m\n\u001b[0;32m--> 237\u001b[0;31m             \u001b[0;32mreturn\u001b[0m \u001b[0mgzip\u001b[0m\u001b[0;34m.\u001b[0m\u001b[0mopen\u001b[0m\u001b[0;34m(\u001b[0m\u001b[0mpath_fn\u001b[0m \u001b[0;34m+\u001b[0m \u001b[0;34m'.gz'\u001b[0m\u001b[0;34m,\u001b[0m \u001b[0;34m*\u001b[0m\u001b[0margs\u001b[0m\u001b[0;34m,\u001b[0m \u001b[0;34m**\u001b[0m\u001b[0mkwargs\u001b[0m\u001b[0;34m)\u001b[0m\u001b[0;34m\u001b[0m\u001b[0;34m\u001b[0m\u001b[0m\n\u001b[0m\u001b[1;32m    238\u001b[0m         \u001b[0;32melse\u001b[0m\u001b[0;34m:\u001b[0m\u001b[0;34m\u001b[0m\u001b[0;34m\u001b[0m\u001b[0m\n\u001b[1;32m    239\u001b[0m             \u001b[0;32mreturn\u001b[0m \u001b[0mopen\u001b[0m\u001b[0;34m(\u001b[0m\u001b[0mpath_fn\u001b[0m\u001b[0;34m,\u001b[0m \u001b[0;34m*\u001b[0m\u001b[0margs\u001b[0m\u001b[0;34m,\u001b[0m \u001b[0;34m**\u001b[0m\u001b[0mkwargs\u001b[0m\u001b[0;34m)\u001b[0m\u001b[0;34m\u001b[0m\u001b[0;34m\u001b[0m\u001b[0m\n",
            "\u001b[0;32m/usr/lib/python3.7/gzip.py\u001b[0m in \u001b[0;36mopen\u001b[0;34m(filename, mode, compresslevel, encoding, errors, newline)\u001b[0m\n\u001b[1;32m     56\u001b[0m     \u001b[0mgz_mode\u001b[0m \u001b[0;34m=\u001b[0m \u001b[0mmode\u001b[0m\u001b[0;34m.\u001b[0m\u001b[0mreplace\u001b[0m\u001b[0;34m(\u001b[0m\u001b[0;34m\"t\"\u001b[0m\u001b[0;34m,\u001b[0m \u001b[0;34m\"\"\u001b[0m\u001b[0;34m)\u001b[0m\u001b[0;34m\u001b[0m\u001b[0;34m\u001b[0m\u001b[0m\n\u001b[1;32m     57\u001b[0m     \u001b[0;32mif\u001b[0m \u001b[0misinstance\u001b[0m\u001b[0;34m(\u001b[0m\u001b[0mfilename\u001b[0m\u001b[0;34m,\u001b[0m \u001b[0;34m(\u001b[0m\u001b[0mstr\u001b[0m\u001b[0;34m,\u001b[0m \u001b[0mbytes\u001b[0m\u001b[0;34m,\u001b[0m \u001b[0mos\u001b[0m\u001b[0;34m.\u001b[0m\u001b[0mPathLike\u001b[0m\u001b[0;34m)\u001b[0m\u001b[0;34m)\u001b[0m\u001b[0;34m:\u001b[0m\u001b[0;34m\u001b[0m\u001b[0;34m\u001b[0m\u001b[0m\n\u001b[0;32m---> 58\u001b[0;31m         \u001b[0mbinary_file\u001b[0m \u001b[0;34m=\u001b[0m \u001b[0mGzipFile\u001b[0m\u001b[0;34m(\u001b[0m\u001b[0mfilename\u001b[0m\u001b[0;34m,\u001b[0m \u001b[0mgz_mode\u001b[0m\u001b[0;34m,\u001b[0m \u001b[0mcompresslevel\u001b[0m\u001b[0;34m)\u001b[0m\u001b[0;34m\u001b[0m\u001b[0;34m\u001b[0m\u001b[0m\n\u001b[0m\u001b[1;32m     59\u001b[0m     \u001b[0;32melif\u001b[0m \u001b[0mhasattr\u001b[0m\u001b[0;34m(\u001b[0m\u001b[0mfilename\u001b[0m\u001b[0;34m,\u001b[0m \u001b[0;34m\"read\"\u001b[0m\u001b[0;34m)\u001b[0m \u001b[0;32mor\u001b[0m \u001b[0mhasattr\u001b[0m\u001b[0;34m(\u001b[0m\u001b[0mfilename\u001b[0m\u001b[0;34m,\u001b[0m \u001b[0;34m\"write\"\u001b[0m\u001b[0;34m)\u001b[0m\u001b[0;34m:\u001b[0m\u001b[0;34m\u001b[0m\u001b[0;34m\u001b[0m\u001b[0m\n\u001b[1;32m     60\u001b[0m         \u001b[0mbinary_file\u001b[0m \u001b[0;34m=\u001b[0m \u001b[0mGzipFile\u001b[0m\u001b[0;34m(\u001b[0m\u001b[0;32mNone\u001b[0m\u001b[0;34m,\u001b[0m \u001b[0mgz_mode\u001b[0m\u001b[0;34m,\u001b[0m \u001b[0mcompresslevel\u001b[0m\u001b[0;34m,\u001b[0m \u001b[0mfilename\u001b[0m\u001b[0;34m)\u001b[0m\u001b[0;34m\u001b[0m\u001b[0;34m\u001b[0m\u001b[0m\n",
            "\u001b[0;32m/usr/lib/python3.7/gzip.py\u001b[0m in \u001b[0;36m__init__\u001b[0;34m(self, filename, mode, compresslevel, fileobj, mtime)\u001b[0m\n\u001b[1;32m    166\u001b[0m             \u001b[0mmode\u001b[0m \u001b[0;34m+=\u001b[0m \u001b[0;34m'b'\u001b[0m\u001b[0;34m\u001b[0m\u001b[0;34m\u001b[0m\u001b[0m\n\u001b[1;32m    167\u001b[0m         \u001b[0;32mif\u001b[0m \u001b[0mfileobj\u001b[0m \u001b[0;32mis\u001b[0m \u001b[0;32mNone\u001b[0m\u001b[0;34m:\u001b[0m\u001b[0;34m\u001b[0m\u001b[0;34m\u001b[0m\u001b[0m\n\u001b[0;32m--> 168\u001b[0;31m             \u001b[0mfileobj\u001b[0m \u001b[0;34m=\u001b[0m \u001b[0mself\u001b[0m\u001b[0;34m.\u001b[0m\u001b[0mmyfileobj\u001b[0m \u001b[0;34m=\u001b[0m \u001b[0mbuiltins\u001b[0m\u001b[0;34m.\u001b[0m\u001b[0mopen\u001b[0m\u001b[0;34m(\u001b[0m\u001b[0mfilename\u001b[0m\u001b[0;34m,\u001b[0m \u001b[0mmode\u001b[0m \u001b[0;32mor\u001b[0m \u001b[0;34m'rb'\u001b[0m\u001b[0;34m)\u001b[0m\u001b[0;34m\u001b[0m\u001b[0;34m\u001b[0m\u001b[0m\n\u001b[0m\u001b[1;32m    169\u001b[0m         \u001b[0;32mif\u001b[0m \u001b[0mfilename\u001b[0m \u001b[0;32mis\u001b[0m \u001b[0;32mNone\u001b[0m\u001b[0;34m:\u001b[0m\u001b[0;34m\u001b[0m\u001b[0;34m\u001b[0m\u001b[0m\n\u001b[1;32m    170\u001b[0m             \u001b[0mfilename\u001b[0m \u001b[0;34m=\u001b[0m \u001b[0mgetattr\u001b[0m\u001b[0;34m(\u001b[0m\u001b[0mfileobj\u001b[0m\u001b[0;34m,\u001b[0m \u001b[0;34m'name'\u001b[0m\u001b[0;34m,\u001b[0m \u001b[0;34m''\u001b[0m\u001b[0;34m)\u001b[0m\u001b[0;34m\u001b[0m\u001b[0;34m\u001b[0m\u001b[0m\n",
            "\u001b[0;31mFileNotFoundError\u001b[0m: [Errno 2] No such file or directory: '/home/satyake/Downloads/weatherman/t10k-labels-idx1-ubyte.gz'"
          ]
        }
      ],
      "source": [
        "from mnist import MNIST\n",
        "%matplotlib notebook\n",
        "\n",
        "mndata = MNIST('/content/Data')\n",
        "mndata.gz=True\n",
        "\n",
        "x_train, y_train = mndata.load_training()\n",
        "# or\n",
        "mndata1=MNIST('/home/satyake/Downloads/weatherman')\n",
        "mndata1.gz=True\n",
        "x_test,y_test=mndata1.load_testing()\n",
        "y_train=np.array(y_train)\n",
        "y_test=np.array(y_test)"
      ]
    },
    {
      "cell_type": "code",
      "source": [
        "from mnist import MNIST\n",
        "\n",
        "mndata = MNIST('/content/Data')\n",
        "mndata.gz=True\n",
        "x_train, y_train = mndata.load_training()\n",
        "# or\n",
        "x_test, y_test = mndata.load_testing()"
      ],
      "metadata": {
        "id": "8Yxg548nA64q"
      },
      "execution_count": 92,
      "outputs": []
    },
    {
      "cell_type": "code",
      "source": [
        "y_train=np.array(y_train)\n",
        "y_test=np.array(y_test)"
      ],
      "metadata": {
        "id": "lHHvIO52B9Ai"
      },
      "execution_count": 93,
      "outputs": []
    },
    {
      "cell_type": "code",
      "source": [
        "y_train.shape"
      ],
      "metadata": {
        "id": "reWm0aJOLzi6",
        "outputId": "36214525-fbf8-4048-c8ee-1d6c219a9c02",
        "colab": {
          "base_uri": "https://localhost:8080/"
        }
      },
      "execution_count": 87,
      "outputs": [
        {
          "output_type": "execute_result",
          "data": {
            "text/plain": [
              "(433,)"
            ]
          },
          "metadata": {},
          "execution_count": 87
        }
      ]
    },
    {
      "cell_type": "code",
      "source": [
        "#x_train=np.array(x_train)"
      ],
      "metadata": {
        "id": "CFcKJp9gCHtp"
      },
      "execution_count": 63,
      "outputs": []
    },
    {
      "cell_type": "code",
      "source": [
        "y_train"
      ],
      "metadata": {
        "id": "50qkqVbNCFAD",
        "outputId": "eb9f1325-1db8-4baa-9288-649ba64f147c",
        "colab": {
          "base_uri": "https://localhost:8080/"
        }
      },
      "execution_count": 88,
      "outputs": [
        {
          "output_type": "execute_result",
          "data": {
            "text/plain": [
              "array([0, 0, 0, 0, 1, 0, 0, 1, 0, 0, 0, 1, 1, 1, 0, 0, 1, 1, 0, 1, 0, 0,\n",
              "       0, 0, 1, 1, 0, 0, 1, 1, 1, 0, 1, 1, 1, 1, 1, 1, 0, 0, 0, 1, 0, 1,\n",
              "       1, 0, 0, 1, 1, 1, 0, 0, 1, 0, 1, 1, 0, 1, 0, 1, 0, 1, 1, 0, 0, 0,\n",
              "       1, 1, 1, 1, 0, 1, 1, 0, 1, 0, 1, 1, 1, 0, 1, 1, 0, 1, 1, 1, 1, 0,\n",
              "       1, 1, 1, 1, 1, 1, 1, 0, 1, 0, 1, 0, 1, 1, 0, 0, 1, 0, 0, 0, 1, 0,\n",
              "       1, 0, 1, 1, 1, 1, 0, 0, 0, 0, 1, 0, 1, 1, 1, 1, 0, 1, 0, 0, 1, 0,\n",
              "       1, 0, 1, 0, 0, 1, 0, 1, 0, 0, 1, 0, 0, 0, 1, 0, 0, 0, 1, 1, 1, 0,\n",
              "       1, 1, 0, 0, 1, 1, 1, 0, 0, 0, 0, 1, 0, 1, 1, 0, 1, 1, 1, 0, 0, 1,\n",
              "       1, 0, 1, 0, 0, 0, 0, 0, 0, 1, 0, 1, 1, 0, 1, 1, 0, 0, 0, 1, 1, 1,\n",
              "       1, 0, 1, 0, 0, 0, 1, 0, 0, 0, 0, 0, 1, 0, 0, 0, 0, 0, 1, 1, 1, 0,\n",
              "       1, 0, 1, 1, 1, 0, 0, 1, 1, 0, 0, 1, 1, 0, 1, 1, 1, 1, 0, 0, 1, 1,\n",
              "       0, 0, 1, 1, 0, 1, 1, 1, 0, 1, 1, 1, 1, 0, 0, 0, 0, 0, 0, 1, 1, 1,\n",
              "       1, 0, 0, 0, 1, 0, 0, 0, 1, 0, 1, 0, 1, 0, 1, 1, 0, 1, 1, 0, 1, 0,\n",
              "       0, 0, 0, 0, 0, 0, 1, 0, 1, 0, 1, 1, 1, 0, 0, 0, 0, 1, 1, 0, 1, 0,\n",
              "       0, 0, 1, 1, 1, 0, 1, 0, 0, 0, 0, 0, 0, 1, 0, 1, 1, 0, 1, 1, 0, 1,\n",
              "       0, 1, 1, 0, 0, 1, 1, 1, 0, 1, 1, 1, 1, 0, 0, 1, 0, 0, 1, 0, 0, 1,\n",
              "       1, 1, 1, 0, 0, 1, 1, 1, 0, 0, 0, 1, 1, 0, 0, 1, 1, 0, 0, 1, 1, 1,\n",
              "       0, 1, 1, 0, 0, 0, 0, 1, 0, 1, 1, 1, 1, 0, 1, 0, 0, 0, 1, 1, 1, 1,\n",
              "       1, 1, 1, 0, 1, 0, 1, 1, 0, 1, 1, 0, 0, 0, 1, 0, 1, 0, 0, 1, 1, 0,\n",
              "       1, 0, 0, 0, 0, 0, 1, 1, 0, 1, 1, 0, 1, 0, 1], dtype=uint8)"
            ]
          },
          "metadata": {},
          "execution_count": 88
        }
      ]
    },
    {
      "cell_type": "code",
      "source": [
        "x_train.shape"
      ],
      "metadata": {
        "id": "rW1bv3_PCrLK",
        "outputId": "4f912087-dc34-4f24-fc9b-51618395d92f",
        "colab": {
          "base_uri": "https://localhost:8080/",
          "height": 165
        }
      },
      "execution_count": 49,
      "outputs": [
        {
          "output_type": "error",
          "ename": "AttributeError",
          "evalue": "ignored",
          "traceback": [
            "\u001b[0;31m---------------------------------------------------------------------------\u001b[0m",
            "\u001b[0;31mAttributeError\u001b[0m                            Traceback (most recent call last)",
            "\u001b[0;32m<ipython-input-49-2132a220a582>\u001b[0m in \u001b[0;36m<module>\u001b[0;34m()\u001b[0m\n\u001b[0;32m----> 1\u001b[0;31m \u001b[0mx_train\u001b[0m\u001b[0;34m.\u001b[0m\u001b[0mshape\u001b[0m\u001b[0;34m\u001b[0m\u001b[0;34m\u001b[0m\u001b[0m\n\u001b[0m",
            "\u001b[0;31mAttributeError\u001b[0m: 'list' object has no attribute 'shape'"
          ]
        }
      ]
    },
    {
      "cell_type": "code",
      "source": [
        "x_train.shape"
      ],
      "metadata": {
        "id": "0kcbczeaCKbL",
        "outputId": "3de96b22-139c-4e16-b71b-46128d75064b",
        "colab": {
          "base_uri": "https://localhost:8080/",
          "height": 165
        }
      },
      "execution_count": 80,
      "outputs": [
        {
          "output_type": "error",
          "ename": "AttributeError",
          "evalue": "ignored",
          "traceback": [
            "\u001b[0;31m---------------------------------------------------------------------------\u001b[0m",
            "\u001b[0;31mAttributeError\u001b[0m                            Traceback (most recent call last)",
            "\u001b[0;32m<ipython-input-80-2132a220a582>\u001b[0m in \u001b[0;36m<module>\u001b[0;34m()\u001b[0m\n\u001b[0;32m----> 1\u001b[0;31m \u001b[0mx_train\u001b[0m\u001b[0;34m.\u001b[0m\u001b[0mshape\u001b[0m\u001b[0;34m\u001b[0m\u001b[0;34m\u001b[0m\u001b[0m\n\u001b[0m",
            "\u001b[0;31mAttributeError\u001b[0m: 'list' object has no attribute 'shape'"
          ]
        }
      ]
    },
    {
      "cell_type": "code",
      "source": [
        "from sklearn.model_selection import train_test_split"
      ],
      "metadata": {
        "id": "sNHR6wVTCN-y"
      },
      "execution_count": 50,
      "outputs": []
    },
    {
      "cell_type": "code",
      "source": [
        "x_train,x_test,y_train,y_test=train_test_split(x_train,y_train,test_size=0.4)"
      ],
      "metadata": {
        "id": "S46gcu_TCUmr"
      },
      "execution_count": 90,
      "outputs": []
    },
    {
      "cell_type": "code",
      "source": [
        "import numpy as np "
      ],
      "metadata": {
        "id": "kTyk4USONI92"
      },
      "execution_count": 69,
      "outputs": []
    },
    {
      "cell_type": "code",
      "source": [
        "(x_train,y_train),(x_test,y_test)=tf.keras.datasets.mnist.load_data()"
      ],
      "metadata": {
        "id": "BdXA2NQqMY4Y"
      },
      "execution_count": 253,
      "outputs": []
    },
    {
      "cell_type": "code",
      "source": [
        "print(x_train.shape)\n",
        "print(x_test.shape)"
      ],
      "metadata": {
        "colab": {
          "base_uri": "https://localhost:8080/"
        },
        "id": "bmTvh0dkNX3y",
        "outputId": "d95b0a3b-28de-473a-a372-f5c651708cd7"
      },
      "execution_count": 95,
      "outputs": [
        {
          "output_type": "stream",
          "name": "stdout",
          "text": [
            "(433, 784)\n",
            "(374, 784)\n"
          ]
        }
      ]
    },
    {
      "cell_type": "code",
      "source": [
        "len(x_train)-1"
      ],
      "metadata": {
        "id": "JHTmFlpXEIkW",
        "outputId": "de7074d0-71da-4257-862f-a7842580f87a",
        "colab": {
          "base_uri": "https://localhost:8080/"
        }
      },
      "execution_count": 96,
      "outputs": [
        {
          "output_type": "execute_result",
          "data": {
            "text/plain": [
              "432"
            ]
          },
          "metadata": {},
          "execution_count": 96
        }
      ]
    },
    {
      "cell_type": "code",
      "source": [
        "y_train"
      ],
      "metadata": {
        "id": "SPKxlM6AXjY_",
        "outputId": "37255f68-35a8-4b82-9a54-8e3eec605c97",
        "colab": {
          "base_uri": "https://localhost:8080/"
        }
      },
      "execution_count": 259,
      "outputs": [
        {
          "output_type": "execute_result",
          "data": {
            "text/plain": [
              "array([5, 0, 4, ..., 5, 6, 8], dtype=uint8)"
            ]
          },
          "metadata": {},
          "execution_count": 259
        }
      ]
    },
    {
      "cell_type": "code",
      "source": [
        "y_train.shape"
      ],
      "metadata": {
        "id": "JNV2SODyKZkm",
        "outputId": "3fe4272f-d6f8-4032-8889-23abd79dc153",
        "colab": {
          "base_uri": "https://localhost:8080/"
        }
      },
      "execution_count": 258,
      "outputs": [
        {
          "output_type": "execute_result",
          "data": {
            "text/plain": [
              "(60000,)"
            ]
          },
          "metadata": {},
          "execution_count": 258
        }
      ]
    },
    {
      "cell_type": "code",
      "source": [
        "x_train=np.reshape(x_train,(433,784))/255.\n",
        "x_test=np.reshape(x_test,(374,784))/255."
      ],
      "metadata": {
        "id": "6T92oOQHM-ew"
      },
      "execution_count": 94,
      "outputs": []
    },
    {
      "cell_type": "code",
      "source": [
        "x_train"
      ],
      "metadata": {
        "id": "1Bm42DpXZxHF",
        "outputId": "8345dce2-f628-4b60-f3e9-49fc97261096",
        "colab": {
          "base_uri": "https://localhost:8080/"
        }
      },
      "execution_count": 297,
      "outputs": [
        {
          "output_type": "execute_result",
          "data": {
            "text/plain": [
              "array([[0.98431373, 1.        , 1.        , ..., 0.99607843, 1.        ,\n",
              "        1.        ],\n",
              "       [0.97254902, 0.99607843, 0.98431373, ..., 1.        , 0.99607843,\n",
              "        0.99607843],\n",
              "       [0.98823529, 1.        , 1.        , ..., 1.        , 1.        ,\n",
              "        0.99607843],\n",
              "       ...,\n",
              "       [0.98039216, 1.        , 1.        , ..., 1.        , 1.        ,\n",
              "        1.        ],\n",
              "       [0.98039216, 1.        , 1.        , ..., 0.99607843, 0.99607843,\n",
              "        0.99607843],\n",
              "       [0.98039216, 1.        , 1.        , ..., 0.98431373, 0.98431373,\n",
              "        0.98431373]])"
            ]
          },
          "metadata": {},
          "execution_count": 297
        }
      ]
    },
    {
      "cell_type": "code",
      "source": [
        "plt.imshow(np.reshape(x_train[168],(28,28)),cmap='binary')\n",
        "plt.show()"
      ],
      "metadata": {
        "colab": {
          "base_uri": "https://localhost:8080/",
          "height": 265
        },
        "id": "NOvOo-ETNK-y",
        "outputId": "35e59005-38a8-4f26-bb6e-00cee3e01a18"
      },
      "execution_count": 97,
      "outputs": [
        {
          "output_type": "display_data",
          "data": {
            "text/plain": [
              "<Figure size 432x288 with 1 Axes>"
            ],
            "image/png": "[encoded data removed]"
          },
          "metadata": {
            "needs_background": "light"
          }
        }
      ]
    },
    {
      "cell_type": "code",
      "source": [
        "def plot_triplet(data):\n",
        "    plt.figure(figsize=(6,3))\n",
        "    for i in range(0,3):\n",
        "        plt.subplot(1,3,i+1)\n",
        "        plt.imshow(np.reshape(data[i],(28,28)),cmap='gray')\n",
        "    plt.show()\n",
        "\n",
        "def create_batch(batch_size):\n",
        "    anchors=np.zeros((batch_size,784))\n",
        "    positives=np.zeros((batch_size,784))\n",
        "    negatives=np.zeros((batch_size,784))\n",
        "    \n",
        "    for i in range(0,batch_size):\n",
        "            index=random.randint(0,len(x_train)-1)\n",
        "            #print(index)\n",
        "            anc=x_train[index]\n",
        "            label_of_anc=y_train[index]\n",
        "            #print(label_of_anc)\n",
        "            indices_of_pos=np.squeeze(np.where(y_train==label_of_anc))\n",
        "            indices_of_neg=np.squeeze(np.where(y_train!=label_of_anc))\n",
        "            #print(indices_of_neg)\n",
        "            pos=x_train[indices_of_pos[random.randint(0,len(indices_of_pos)-1)]]\n",
        "            neg=x_train[indices_of_neg[random.randint(0,len(indices_of_neg)-1)]]\n",
        "            positives[i]=pos\n",
        "            negatives[i]=neg\n",
        "            anchors[i]=anc\n",
        "    return [anchors,positives,negatives]\n",
        "    "
      ],
      "metadata": {
        "id": "bZnLRxIkNlit"
      },
      "execution_count": 98,
      "outputs": []
    },
    {
      "cell_type": "code",
      "source": [
        ""
      ],
      "metadata": {
        "id": "0fUJeLGSIoLd"
      },
      "execution_count": null,
      "outputs": []
    },
    {
      "cell_type": "code",
      "source": [
        "plot_triplet([x_train[0],x_train[1],x_train[4]])  #testing the triplet plot\n"
      ],
      "metadata": {
        "colab": {
          "base_uri": "https://localhost:8080/",
          "height": 149
        },
        "id": "w06_Q49cNrx-",
        "outputId": "4fdffff6-5602-4e36-f7c1-852ea3e17853"
      },
      "execution_count": 99,
      "outputs": [
        {
          "output_type": "display_data",
          "data": {
            "text/plain": [
              "<Figure size 432x216 with 3 Axes>"
            ],
            "image/png": "[encoded data removed]"
          },
          "metadata": {
            "needs_background": "light"
          }
        }
      ]
    },
    {
      "cell_type": "code",
      "source": [
        "files=create_batch(1)\n",
        "plot_triplet(files) #CHECKING THE BATCHGEN FUNCTION"
      ],
      "metadata": {
        "colab": {
          "base_uri": "https://localhost:8080/",
          "height": 149
        },
        "id": "vLz78AnNN2aZ",
        "outputId": "8a5ea01e-544d-4215-d3b1-a0717bf20cbc"
      },
      "execution_count": 100,
      "outputs": [
        {
          "output_type": "display_data",
          "data": {
            "text/plain": [
              "<Figure size 432x216 with 3 Axes>"
            ],
            "image/png": "[encoded data removed]"
          },
          "metadata": {
            "needs_background": "light"
          }
        }
      ]
    },
    {
      "cell_type": "code",
      "source": [
        "emb_dim=512\n",
        "embedding_model=tf.keras.Sequential([tf.keras.layers.Dense(64,activation='relu',input_shape=(784,)),\n",
        "                                     tf.keras.layers.Dense(emb_dim,activation='sigmoid')])\n",
        "\n",
        "in_anc=tf.keras.layers.Input(shape=(784,))\n",
        "in_pos=tf.keras.layers.Input(shape=(784,))\n",
        "in_neg=tf.keras.layers.Input(shape=(784,))\n",
        "emb_anc=embedding_model(in_anc) #apply the model to the anchor,positive and negatives\n",
        "emb_pos=embedding_model(in_pos)\n",
        "emb_neg=embedding_model(in_neg)\n",
        "out=tf.keras.layers.concatenate([emb_anc,emb_pos,emb_neg],axis=1)\n",
        "Network=tf.keras.models.Model([in_anc,in_pos,in_neg],out)"
      ],
      "metadata": {
        "id": "HLrImlULN2gB"
      },
      "execution_count": 121,
      "outputs": []
    },
    {
      "cell_type": "code",
      "source": [
        "!pip install mnist"
      ],
      "metadata": {
        "id": "vN5SEFkwAC7c",
        "outputId": "1ef0a1b4-40e2-4ae3-d25c-33450b59d7bb",
        "colab": {
          "base_uri": "https://localhost:8080/"
        }
      },
      "execution_count": 1,
      "outputs": [
        {
          "output_type": "stream",
          "name": "stdout",
          "text": [
            "Looking in indexes: https://pypi.org/simple, https://us-python.pkg.dev/colab-wheels/public/simple/\n",
            "Collecting mnist\n",
            "  Downloading mnist-0.2.2-py2.py3-none-any.whl (3.5 kB)\n",
            "Requirement already satisfied: numpy in /usr/local/lib/python3.7/dist-packages (from mnist) (1.21.6)\n",
            "Installing collected packages: mnist\n",
            "Successfully installed mnist-0.2.2\n"
          ]
        }
      ]
    },
    {
      "cell_type": "code",
      "source": [
        "embedding_model.summary() #to view the complete model\n",
        "Network.summary()\n"
      ],
      "metadata": {
        "id": "1-p3HNWudrXh",
        "outputId": "712d0148-715b-4d4b-cfec-e4dd77afb5b6",
        "colab": {
          "base_uri": "https://localhost:8080/"
        }
      },
      "execution_count": 122,
      "outputs": [
        {
          "output_type": "stream",
          "name": "stdout",
          "text": [
            "Model: \"sequential_8\"\n",
            "_________________________________________________________________\n",
            " Layer (type)                Output Shape              Param #   \n",
            "=================================================================\n",
            " dense_16 (Dense)            (None, 64)                50240     \n",
            "                                                                 \n",
            " dense_17 (Dense)            (None, 512)               33280     \n",
            "                                                                 \n",
            "=================================================================\n",
            "Total params: 83,520\n",
            "Trainable params: 83,520\n",
            "Non-trainable params: 0\n",
            "_________________________________________________________________\n",
            "Model: \"model_8\"\n",
            "__________________________________________________________________________________________________\n",
            " Layer (type)                   Output Shape         Param #     Connected to                     \n",
            "==================================================================================================\n",
            " input_25 (InputLayer)          [(None, 784)]        0           []                               \n",
            "                                                                                                  \n",
            " input_26 (InputLayer)          [(None, 784)]        0           []                               \n",
            "                                                                                                  \n",
            " input_27 (InputLayer)          [(None, 784)]        0           []                               \n",
            "                                                                                                  \n",
            " sequential_8 (Sequential)      (None, 512)          83520       ['input_25[0][0]',               \n",
            "                                                                  'input_26[0][0]',               \n",
            "                                                                  'input_27[0][0]']               \n",
            "                                                                                                  \n",
            " concatenate_8 (Concatenate)    (None, 1536)         0           ['sequential_8[0][0]',           \n",
            "                                                                  'sequential_8[1][0]',           \n",
            "                                                                  'sequential_8[2][0]']           \n",
            "                                                                                                  \n",
            "==================================================================================================\n",
            "Total params: 83,520\n",
            "Trainable params: 83,520\n",
            "Non-trainable params: 0\n",
            "__________________________________________________________________________________________________\n"
          ]
        }
      ]
    },
    {
      "cell_type": "code",
      "source": [
        "sample_embedding = embedding_model.predict(np.expand_dims(x_train[1],axis=0))[0]"
      ],
      "metadata": {
        "id": "b2hOQryMdvv-"
      },
      "execution_count": 123,
      "outputs": []
    },
    {
      "cell_type": "code",
      "source": [
        "print(sample_embedding)"
      ],
      "metadata": {
        "id": "Vq_hgBJyXYpZ"
      },
      "execution_count": null,
      "outputs": []
    },
    {
      "cell_type": "code",
      "source": [
        "def data_generator(batch_size,emb_dim):\n",
        "    while True:\n",
        "        x=create_batch(batch_size)\n",
        "        y=np.zeros((batch_size,3*emb_dim))\n",
        "        yield x,y\n",
        "        "
      ],
      "metadata": {
        "id": "MQ8oXlzWdyPR"
      },
      "execution_count": 124,
      "outputs": []
    },
    {
      "cell_type": "code",
      "source": [
        "def loss(y_true,y_pred):\n",
        "        anc=y_pred[:,:emb_dim]\n",
        "        pos=y_pred[:,emb_dim:2*emb_dim]\n",
        "        neg=y_pred[:,2*emb_dim:]\n",
        "        dp=tf.reduce_mean(tf.square(anc-pos),axis=1)\n",
        "        dn=tf.reduce_mean(tf.square(anc-neg),axis=1)\n",
        "        return tf.maximum(dp-dn+0.9,0.)"
      ],
      "metadata": {
        "id": "183kbZ-Jd4G8"
      },
      "execution_count": 125,
      "outputs": []
    },
    {
      "cell_type": "code",
      "source": [
        "batch_size=100\n",
        "epochs=100\n",
        "steps_per_epoch=int(433/batch_size)\n",
        "Network.compile(loss=loss,optimizer=tf.keras.optimizers.Adam(learning_rate=0.0001))\n",
        "X,Y=x_test,y_test"
      ],
      "metadata": {
        "id": "hNJEs-0pd57F"
      },
      "execution_count": 126,
      "outputs": []
    },
    {
      "cell_type": "code",
      "source": [
        "steps_per_epoch"
      ],
      "metadata": {
        "id": "OjTx-Zvpbi7D",
        "outputId": "ee20dd15-e8f5-4fea-81d8-c44a642bc6a6",
        "colab": {
          "base_uri": "https://localhost:8080/"
        }
      },
      "execution_count": 63,
      "outputs": [
        {
          "output_type": "execute_result",
          "data": {
            "text/plain": [
              "4"
            ]
          },
          "metadata": {},
          "execution_count": 63
        }
      ]
    },
    {
      "cell_type": "code",
      "source": [
        "Y= tf.keras.utils.to_categorical(\n",
        "    Y\n",
        ")"
      ],
      "metadata": {
        "id": "0wDLDWaEVQFp"
      },
      "execution_count": 233,
      "outputs": []
    },
    {
      "cell_type": "code",
      "source": [
        "Y"
      ],
      "metadata": {
        "id": "d5FASY5GVeym"
      },
      "execution_count": null,
      "outputs": []
    },
    {
      "cell_type": "code",
      "source": [
        "_ = Network.fit_generator(\n",
        "    data_generator(64,emb_dim),\n",
        "    steps_per_epoch=2,\n",
        "    epochs=100, verbose=True,\n",
        "    callbacks=[\n",
        "        PCAPlotter(\n",
        "            plt, embedding_model,\n",
        "            x_test, y_test        )]\n",
        ")\n",
        "#we visualize the seperation on the test_set after training"
      ],
      "metadata": {
        "id": "Dmsn97rGd8Kh",
        "outputId": "de35a9d8-5ced-4a42-c9fb-f3f44da66892",
        "colab": {
          "base_uri": "https://localhost:8080/",
          "height": 1000
        }
      },
      "execution_count": 133,
      "outputs": [
        {
          "output_type": "stream",
          "name": "stderr",
          "text": [
            "/usr/local/lib/python3.7/dist-packages/ipykernel_launcher.py:8: UserWarning: `Model.fit_generator` is deprecated and will be removed in a future version. Please use `Model.fit`, which supports generators.\n",
            "  \n"
          ]
        },
        {
          "output_type": "stream",
          "name": "stdout",
          "text": [
            "Epoch 1/100\n",
            "2/2 [==============================] - 0s 235ms/step - loss: 0.5925\n",
            "Epoch 2/100\n",
            "2/2 [==============================] - 0s 238ms/step - loss: 0.6214\n",
            "Epoch 3/100\n",
            "2/2 [==============================] - 0s 226ms/step - loss: 0.6071\n",
            "Epoch 4/100\n",
            "2/2 [==============================] - 0s 235ms/step - loss: 0.6189\n",
            "Epoch 5/100\n",
            "2/2 [==============================] - 0s 281ms/step - loss: 0.5570\n",
            "Epoch 6/100\n",
            "2/2 [==============================] - 0s 234ms/step - loss: 0.5785\n",
            "Epoch 7/100\n",
            "2/2 [==============================] - 0s 232ms/step - loss: 0.5776\n",
            "Epoch 8/100\n",
            "2/2 [==============================] - 0s 232ms/step - loss: 0.6043\n",
            "Epoch 9/100\n",
            "2/2 [==============================] - 0s 237ms/step - loss: 0.5647\n",
            "Epoch 10/100\n",
            "2/2 [==============================] - 0s 234ms/step - loss: 0.5925\n",
            "Epoch 11/100\n",
            "2/2 [==============================] - 0s 233ms/step - loss: 0.5659\n",
            "Epoch 12/100\n",
            "2/2 [==============================] - 0s 231ms/step - loss: 0.5926\n",
            "Epoch 13/100\n",
            "2/2 [==============================] - 0s 231ms/step - loss: 0.5684\n",
            "Epoch 14/100\n",
            "2/2 [==============================] - 0s 297ms/step - loss: 0.5961\n",
            "Epoch 15/100\n",
            "2/2 [==============================] - 0s 284ms/step - loss: 0.5413\n",
            "Epoch 16/100\n",
            "2/2 [==============================] - 0s 236ms/step - loss: 0.5448\n",
            "Epoch 17/100\n",
            "2/2 [==============================] - 0s 231ms/step - loss: 0.5487\n",
            "Epoch 18/100\n",
            "2/2 [==============================] - 0s 274ms/step - loss: 0.5665\n",
            "Epoch 19/100\n",
            "2/2 [==============================] - 0s 234ms/step - loss: 0.5590\n",
            "Epoch 20/100\n",
            "2/2 [==============================] - 0s 237ms/step - loss: 0.6001\n",
            "Epoch 21/100\n",
            "2/2 [==============================] - 0s 240ms/step - loss: 0.5513\n",
            "Epoch 22/100\n",
            "2/2 [==============================] - 0s 235ms/step - loss: 0.5492\n",
            "Epoch 23/100\n",
            "2/2 [==============================] - 0s 278ms/step - loss: 0.5564\n",
            "Epoch 24/100\n",
            "2/2 [==============================] - 0s 300ms/step - loss: 0.5779\n",
            "Epoch 25/100\n",
            "2/2 [==============================] - 0s 233ms/step - loss: 0.5583\n",
            "Epoch 26/100\n",
            "2/2 [==============================] - 0s 234ms/step - loss: 0.5330\n",
            "Epoch 27/100\n",
            "2/2 [==============================] - 0s 230ms/step - loss: 0.5612\n",
            "Epoch 28/100\n",
            "2/2 [==============================] - 0s 234ms/step - loss: 0.5589\n",
            "Epoch 29/100\n",
            "2/2 [==============================] - 0s 226ms/step - loss: 0.5379\n",
            "Epoch 30/100\n",
            "2/2 [==============================] - 0s 274ms/step - loss: 0.5358\n",
            "Epoch 31/100\n",
            "2/2 [==============================] - 0s 234ms/step - loss: 0.5563\n",
            "Epoch 32/100\n",
            "2/2 [==============================] - 0s 234ms/step - loss: 0.5561\n",
            "Epoch 33/100\n",
            "2/2 [==============================] - 0s 230ms/step - loss: 0.5227\n",
            "Epoch 34/100\n",
            "2/2 [==============================] - 0s 248ms/step - loss: 0.5429\n",
            "Epoch 35/100\n",
            "2/2 [==============================] - 0s 223ms/step - loss: 0.5864\n",
            "Epoch 36/100\n",
            "2/2 [==============================] - 0s 226ms/step - loss: 0.5594\n",
            "Epoch 37/100\n",
            "2/2 [==============================] - 0s 229ms/step - loss: 0.5558\n",
            "Epoch 38/100\n",
            "2/2 [==============================] - 0s 237ms/step - loss: 0.5379\n",
            "Epoch 39/100\n",
            "2/2 [==============================] - 0s 237ms/step - loss: 0.5636\n",
            "Epoch 40/100\n",
            "2/2 [==============================] - 0s 280ms/step - loss: 0.5499\n",
            "Epoch 41/100\n",
            "2/2 [==============================] - 0s 419ms/step - loss: 0.5475\n",
            "Epoch 42/100\n",
            "2/2 [==============================] - 0s 229ms/step - loss: 0.5530\n",
            "Epoch 43/100\n",
            "2/2 [==============================] - 0s 224ms/step - loss: 0.6167\n",
            "Epoch 44/100\n",
            "2/2 [==============================] - 0s 231ms/step - loss: 0.5207\n",
            "Epoch 45/100\n",
            "2/2 [==============================] - 0s 229ms/step - loss: 0.5222\n",
            "Epoch 46/100\n",
            "2/2 [==============================] - 0s 227ms/step - loss: 0.5352\n",
            "Epoch 47/100\n",
            "2/2 [==============================] - 0s 226ms/step - loss: 0.5265\n",
            "Epoch 48/100\n",
            "2/2 [==============================] - 0s 245ms/step - loss: 0.5050\n",
            "Epoch 49/100\n",
            "2/2 [==============================] - 0s 230ms/step - loss: 0.5639\n",
            "Epoch 50/100\n",
            "2/2 [==============================] - 0s 233ms/step - loss: 0.5770\n",
            "Epoch 51/100\n",
            "2/2 [==============================] - 0s 229ms/step - loss: 0.5495\n",
            "Epoch 52/100\n",
            "2/2 [==============================] - 0s 231ms/step - loss: 0.5024\n",
            "Epoch 53/100\n",
            "2/2 [==============================] - 0s 229ms/step - loss: 0.5128\n",
            "Epoch 54/100\n",
            "2/2 [==============================] - 0s 232ms/step - loss: 0.5089\n",
            "Epoch 55/100\n",
            "2/2 [==============================] - 0s 228ms/step - loss: 0.5088\n",
            "Epoch 56/100\n",
            "2/2 [==============================] - 0s 235ms/step - loss: 0.5431\n",
            "Epoch 57/100\n",
            "2/2 [==============================] - 0s 235ms/step - loss: 0.5074\n",
            "Epoch 58/100\n",
            "2/2 [==============================] - 0s 241ms/step - loss: 0.5163\n",
            "Epoch 59/100\n",
            "2/2 [==============================] - 0s 234ms/step - loss: 0.5161\n",
            "Epoch 60/100\n",
            "2/2 [==============================] - 0s 286ms/step - loss: 0.5449\n",
            "Epoch 61/100\n",
            "2/2 [==============================] - 0s 229ms/step - loss: 0.5151\n",
            "Epoch 62/100\n",
            "2/2 [==============================] - 0s 229ms/step - loss: 0.4732\n",
            "Epoch 63/100\n",
            "2/2 [==============================] - 0s 230ms/step - loss: 0.5574\n",
            "Epoch 64/100\n",
            "2/2 [==============================] - 0s 235ms/step - loss: 0.5386\n",
            "Epoch 65/100\n",
            "2/2 [==============================] - 0s 225ms/step - loss: 0.5280\n",
            "Epoch 66/100\n",
            "2/2 [==============================] - 0s 228ms/step - loss: 0.5417\n",
            "Epoch 67/100\n",
            "2/2 [==============================] - 0s 229ms/step - loss: 0.5390\n",
            "Epoch 68/100\n",
            "2/2 [==============================] - 0s 234ms/step - loss: 0.5273\n",
            "Epoch 69/100\n",
            "2/2 [==============================] - 0s 216ms/step - loss: 0.5121\n",
            "Epoch 70/100\n",
            "2/2 [==============================] - 0s 233ms/step - loss: 0.5032\n",
            "Epoch 71/100\n",
            "2/2 [==============================] - 0s 228ms/step - loss: 0.5010\n",
            "Epoch 72/100\n",
            "2/2 [==============================] - 0s 233ms/step - loss: 0.4711\n",
            "Epoch 73/100\n",
            "2/2 [==============================] - 0s 231ms/step - loss: 0.4991\n",
            "Epoch 74/100\n",
            "2/2 [==============================] - 0s 226ms/step - loss: 0.5147\n",
            "Epoch 75/100\n",
            "2/2 [==============================] - 0s 229ms/step - loss: 0.5322\n",
            "Epoch 76/100\n",
            "2/2 [==============================] - 0s 228ms/step - loss: 0.5081\n",
            "Epoch 77/100\n",
            "2/2 [==============================] - 0s 278ms/step - loss: 0.5188\n",
            "Epoch 78/100\n",
            "2/2 [==============================] - 0s 279ms/step - loss: 0.5336\n",
            "Epoch 79/100\n",
            "2/2 [==============================] - 0s 277ms/step - loss: 0.5439\n",
            "Epoch 80/100\n",
            "2/2 [==============================] - 0s 278ms/step - loss: 0.5005\n",
            "Epoch 81/100\n",
            "2/2 [==============================] - 0s 314ms/step - loss: 0.4939\n",
            "Epoch 82/100\n",
            "2/2 [==============================] - 0s 233ms/step - loss: 0.4827\n",
            "Epoch 83/100\n",
            "2/2 [==============================] - 0s 228ms/step - loss: 0.5282\n",
            "Epoch 84/100\n",
            "2/2 [==============================] - 0s 281ms/step - loss: 0.5103\n",
            "Epoch 85/100\n",
            "2/2 [==============================] - 0s 233ms/step - loss: 0.4979\n",
            "Epoch 86/100\n",
            "2/2 [==============================] - 0s 230ms/step - loss: 0.5111\n",
            "Epoch 87/100\n",
            "2/2 [==============================] - 0s 245ms/step - loss: 0.4837\n",
            "Epoch 88/100\n",
            "2/2 [==============================] - 0s 232ms/step - loss: 0.5209\n",
            "Epoch 89/100\n",
            "2/2 [==============================] - 0s 238ms/step - loss: 0.4891\n",
            "Epoch 90/100\n",
            "2/2 [==============================] - 0s 239ms/step - loss: 0.4488\n",
            "Epoch 91/100\n",
            "2/2 [==============================] - 0s 259ms/step - loss: 0.4989\n",
            "Epoch 92/100\n",
            "2/2 [==============================] - 0s 329ms/step - loss: 0.4789\n",
            "Epoch 93/100\n",
            "2/2 [==============================] - 0s 231ms/step - loss: 0.5124\n",
            "Epoch 94/100\n",
            "2/2 [==============================] - 0s 232ms/step - loss: 0.4207\n",
            "Epoch 95/100\n",
            "2/2 [==============================] - 0s 231ms/step - loss: 0.4659\n",
            "Epoch 96/100\n",
            "2/2 [==============================] - 0s 234ms/step - loss: 0.4841\n",
            "Epoch 97/100\n",
            "2/2 [==============================] - 0s 240ms/step - loss: 0.4844\n",
            "Epoch 98/100\n",
            "2/2 [==============================] - 0s 232ms/step - loss: 0.5436\n",
            "Epoch 99/100\n",
            "2/2 [==============================] - 0s 232ms/step - loss: 0.4560\n",
            "Epoch 100/100\n",
            "2/2 [==============================] - 0s 231ms/step - loss: 0.4508\n"
          ]
        },
        {
          "output_type": "display_data",
          "data": {
            "text/plain": [
              "<Figure size 648x288 with 2 Axes>"
            ],
            "image/png": "[encoded data removed]"
          },
          "metadata": {
            "needs_background": "light"
          }
        }
      ]
    },
    {
      "cell_type": "code",
      "source": [
        "Network.fit_generator(train_generator, \n",
        "                    validation_data=test_generator, \n",
        "                    epochs=60, \n",
        "                    verbose=2,steps_per_epoch=20, \n",
        "                    validation_steps=30)"
      ],
      "metadata": {
        "id": "AHkp487Id-UG"
      },
      "execution_count": null,
      "outputs": []
    }
  ],
  "metadata": {
    "colab": {
      "collapsed_sections": [],
      "name": "Making the Most of your Colab Subscription",
      "provenance": [],
      "machine_shape": "hm",
      "include_colab_link": true
    },
    "kernelspec": {
      "display_name": "Python 3",
      "name": "python3"
    },
    "accelerator": "TPU",
    "gpuClass": "standard"
  },
  "nbformat": 4,
  "nbformat_minor": 0
}